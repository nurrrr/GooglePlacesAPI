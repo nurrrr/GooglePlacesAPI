{
 "cells": [
  {
   "cell_type": "code",
   "execution_count": null,
   "metadata": {},
   "outputs": [],
   "source": [
    "import pandas as pd\n",
    "import numpy as np\n",
    "from googleplaces import GooglePlaces, types, lang, GooglePlacesError\n",
    "from math import sin, cos, sqrt, atan2, radians\n",
    "import geopandas as gpd\n",
    "import geojsonio\n",
    "from geopy.distance import geodesic\n",
    "from shapely.geometry import Point, Polygon\n",
    "from shapely.ops import transform\n",
    "from time import sleep\n",
    "import re"
   ]
  },
  {
   "cell_type": "code",
   "execution_count": null,
   "metadata": {},
   "outputs": [],
   "source": [
    "# import global/static var:\n",
    "API_KEY = 'abcdefghijk'\n",
    "google_places = GooglePlaces(API_KEY)\n",
    "\n",
    "# import geojsons to define boundaries of searched polygon:\n",
    "polygon = gpd.read_file('saudi.geojson')"
   ]
  },
  {
   "cell_type": "code",
   "execution_count": null,
   "metadata": {},
   "outputs": [],
   "source": [
    "# check if point in the polygon\n",
    "def inPolygon(coord):\n",
    "    coordinate = Point(coord[1], coord[0])\n",
    "    return polygon['geometry'].contains(coordinate)[0]\n",
    "\n",
    "# generate a 5km grid of coordinates within geojson polygon:\n",
    "def generate_grid(nw, se, lat_coef_5km = 0.048, lgn_coef_5km = 0.049):\n",
    "    nw_lat = nw[0]\n",
    "    nw_lng = nw[1]\n",
    "    se_lat = se[0]\n",
    "    se_lng = se[1]\n",
    "    \n",
    "    north_w2e_ser = []\n",
    "    for i in np.arange(nw_lng, se_lng, lat_coef_5km):\n",
    "        north_w2e_ser.append(round(i,4))\n",
    "\n",
    "    west_n2s_ser = []\n",
    "    for i in np.arange(nw_lat, se_lat, -lgn_coef_5km):\n",
    "        west_n2s_ser.append(round(i,4))\n",
    "\n",
    "    all_points = [[(f, s) for s in north_w2e_ser if inPolygon((f, s))==True] for f in west_n2s_ser]\n",
    "    all_coordinates = []\n",
    "    for i in all_points:\n",
    "        if len(i)>0:\n",
    "            for j in i:\n",
    "                all_coordinates.append({'lat':j[0], 'lng':j[1]})\n",
    "    return all_coordinates"
   ]
  },
  {
   "cell_type": "code",
   "execution_count": null,
   "metadata": {},
   "outputs": [],
   "source": [
    "# Google Places:\n",
    "# extract details of the place\n",
    "def extract_places_info(res_places):\n",
    "    res_arr = []\n",
    "    for place in res_places:\n",
    "        dict = {}\n",
    "        dict['name'] = place.name\n",
    "        dict['geo_location'] = place.geo_location\n",
    "        dict['place_id'] = place.place_id\n",
    "        place.get_details()\n",
    "        dict['details'] = place.details\n",
    "        dict['local_phone_number'] = place.local_phone_number\n",
    "        dict['international_phone_number'] = place.international_phone_number\n",
    "        dict['website'] = place.website\n",
    "        dict['url'] = place.url\n",
    "        res_arr.append(dict)\n",
    "    return res_arr\n",
    "\n",
    "# perform API call\n",
    "def query_google(coordinates):\n",
    "    res_arr = []\n",
    "    print(coordinates)\n",
    "    # first query\n",
    "    query_result = google_places.nearby_search(\n",
    "            lat_lng = coordinates\n",
    "            ,radius=5000, types=[types.TYPE_RESTAURANT] or [types.TYPE_BAKERY] or [types.TYPE_BAR] \n",
    "                                or [types.TYPE_CAFE] or [types.TYPE_CLOTHING_STORE] or [types.TYPE_DEPARTMENT_STORE]\n",
    "                                or [types.TYPE_GROCERY_OR_SUPERMARKET] or [types.TYPE_FOOD] or [types.TYPE_ELECTRONICS_STORE]\n",
    "                                or [types.TYPE_MEAL_DELIVERY] or [types.TYPE_MEAL_TAKEAWAY] or [types.TYPE_SHOE_STORE]\n",
    "                                or [types.TYPE_SHOPPING_MALL])\n",
    "    res_arr.extend(extract_places_info(query_result.places))\n",
    "    print(query_result)\n",
    "    # next queries if results are available\n",
    "    while query_result.has_next_page_token:\n",
    "        sleep(2)\n",
    "        query_result_next_page = google_places.nearby_search(\n",
    "            lat_lng = coordinates\n",
    "            ,pagetoken=query_result.next_page_token\n",
    "            ,radius=5000, types=[types.TYPE_RESTAURANT] or [types.TYPE_BAKERY] or [types.TYPE_BAR] \n",
    "                                or [types.TYPE_CAFE] or [types.TYPE_CLOTHING_STORE] or [types.TYPE_DEPARTMENT_STORE]\n",
    "                                or [types.TYPE_GROCERY_OR_SUPERMARKET] or [types.TYPE_FOOD] or [types.TYPE_ELECTRONICS_STORE]\n",
    "                                or [types.TYPE_MEAL_DELIVERY] or [types.TYPE_MEAL_TAKEAWAY] or [types.TYPE_SHOE_STORE]\n",
    "                                or [types.TYPE_SHOPPING_MALL])\n",
    "        print(query_result)\n",
    "        res_arr.extend(extract_places_info(query_result_next_page.places))\n",
    "        query_result = query_result_next_page\n",
    "    res_dict = {'lat/lng': coordinates, 'results': res_arr}\n",
    "    return res_dict"
   ]
  },
  {
   "cell_type": "code",
   "execution_count": null,
   "metadata": {},
   "outputs": [],
   "source": [
    "# Parsing Google response\n",
    "def parse_result_elements(result_element):\n",
    "    df = pd.DataFrame()\n",
    "    res_arr = []\n",
    "    for i in result_element['output']:\n",
    "        final_dict = {}\n",
    "        final_dict['_searched_coordinates_lat'] = result_element['searched_coordinates']['lat']\n",
    "        final_dict['_searched_coordinates_lng'] = result_element['searched_coordinates']['lng']\n",
    "        for key in i:\n",
    "            if key == 'details':\n",
    "                for j in i[key]:\n",
    "                    if j == 'address_components':\n",
    "                        for z in i[key][j]:\n",
    "                            final_dict['long_name_'+str(i[key][j].index(z))] = z['long_name']\n",
    "                            final_dict['short_name_'+str(i[key][j].index(z))] = z['short_name']\n",
    "                            for zz in z['types']:\n",
    "                                final_dict['types_'+str(i[key][j].index(z))+'_'+str(z['types'].index(zz))] = zz\n",
    "\n",
    "                    if j == 'formatted_address':\n",
    "                        final_dict['formatted_address'] = i[key][j]\n",
    "\n",
    "                    if j == 'geometry':\n",
    "                        if 'viewport' in i[key][j]:\n",
    "                            final_dict['northeast_lat'] = str(i[key][j]['viewport']['northeast']['lat'])\n",
    "                            final_dict['northeast_lng'] = str(i[key][j]['viewport']['northeast']['lng'])\n",
    "                            final_dict['southwest_lat'] = str(i[key][j]['viewport']['southwest']['lat'])\n",
    "                            final_dict['southwest_lng'] = str(i[key][j]['viewport']['southwest']['lng'])\n",
    "\n",
    "                    if j == 'id':\n",
    "                        final_dict['id'] = i[key][j]\n",
    "\n",
    "                    if j == 'opening_hours':\n",
    "                        if 'weekday_text' in i[key][j]:\n",
    "                            for day in i[key][j]['weekday_text']:\n",
    "                                final_dict['opening_hours_day_'+str(i[key][j]['weekday_text'].index(day))] = day\n",
    "\n",
    "                    if j == 'plus_code':\n",
    "                        if 'compound_code' in i[key][j]:\n",
    "                            final_dict['plus_code'] = i[key][j]['compound_code']\n",
    "\n",
    "                    if j == 'rating':\n",
    "                        final_dict['rating'] = i[key][j]\n",
    "\n",
    "                    if j == 'reviews':\n",
    "                        final_dict['num_reviews'] = len(i[key][j])\n",
    "                        if len(i[key][j]) > 0:\n",
    "                            if 'time' in i[key][j][0]:\n",
    "                                final_dict['review_min_tmpst'] = i[key][j][0]['time']\n",
    "                            if 'time' in i[key][j][-1]:\n",
    "                                final_dict['review_max_tmpst'] = i[key][j][-1]['time']\n",
    "\n",
    "                    if j == 'types':\n",
    "                        for _type in i[key][j]:\n",
    "                            final_dict['type_'+str(i[key][j].index(_type))] = _type\n",
    "\n",
    "                    if j == 'user_ratings_total':\n",
    "                        final_dict['user_ratings_total'] = i[key][j]\n",
    "\n",
    "                    if j == 'vicinity':\n",
    "                        final_dict['vicinity'] = i[key][j]\n",
    "            elif key == 'geo_location':\n",
    "                final_dict['lat'] = str(i[key]['lat'])\n",
    "                final_dict['lng'] = str(i[key]['lng'])\n",
    "            else:\n",
    "                final_dict[key] = i[key]\n",
    "\n",
    "        res_arr.append(final_dict)\n",
    "        \n",
    "    df = pd.concat([df, pd.DataFrame(res_arr)], ignore_index=True, sort=False)\n",
    "    return df\n",
    "\n",
    "# get api results\n",
    "def get_results(x):\n",
    "    df = pd.DataFrame()\n",
    "    if len(x['results'])>0:\n",
    "        res_dict = {'searched_coordinates': x['lat/lng'], 'output':x['results']}\n",
    "        df = pd.concat([df, pd.DataFrame([res_dict])], ignore_index=True, sort=False)\n",
    "    return df"
   ]
  },
  {
   "cell_type": "code",
   "execution_count": null,
   "metadata": {},
   "outputs": [],
   "source": [
    "# generating coordinates grid\n",
    "# northewest and southeast corners of the searched geo-region\n",
    "nw = (32.354735, 33.335969)\n",
    "se = (13.809974, 56.569381)\n",
    "all_coordinates = generate_grid(nw, se)"
   ]
  },
  {
   "cell_type": "code",
   "execution_count": null,
   "metadata": {},
   "outputs": [],
   "source": [
    "# calling Google Places API for every coordinate\n",
    "final_res = []\n",
    "for i in all_coordinates[25000:26000]:\n",
    "    print(all_coordinates.index(i))\n",
    "    final_res.extend([query_google(i)])\n",
    "    if len(final_res)%101==0:\n",
    "        df = pd.DataFrame(final_res, columns=['res'])\n",
    "        df.to_csv('points'+str(len(final_res))+'.csv')"
   ]
  },
  {
   "cell_type": "code",
   "execution_count": null,
   "metadata": {},
   "outputs": [],
   "source": [
    "# counting results:\n",
    "count = 0\n",
    "for i in final_res:\n",
    "    if len(i['results'])>0:\n",
    "        count+=1\n",
    "count"
   ]
  },
  {
   "cell_type": "markdown",
   "metadata": {},
   "source": [
    "# consolidation and parsing"
   ]
  },
  {
   "cell_type": "code",
   "execution_count": null,
   "metadata": {},
   "outputs": [],
   "source": [
    "df_res_final = pd.DataFrame()\n",
    "for i in final_res:\n",
    "    df_res_final = pd.concat([df_res_final, pd.DataFrame([i])], ignore_index=True, sort=False)\n",
    "df_res_final.to_csv('df_res_final.csv')"
   ]
  },
  {
   "cell_type": "code",
   "execution_count": null,
   "metadata": {},
   "outputs": [],
   "source": [
    "df_api_res = pd.DataFrame()\n",
    "df_api_res['res'] = df_res_final.apply(lambda x: get_results({'lat/lng':x['lat/lng'], 'results':x['results']}), axis=1)"
   ]
  },
  {
   "cell_type": "code",
   "execution_count": null,
   "metadata": {},
   "outputs": [],
   "source": [
    "df_final_res = pd.DataFrame()\n",
    "for i in df_api_res['res']:\n",
    "    if i.empty:\n",
    "        print('empty')\n",
    "    else:\n",
    "        df_final_res = pd.concat([df_final_res, i], ignore_index=True, sort=False)"
   ]
  },
  {
   "cell_type": "code",
   "execution_count": null,
   "metadata": {},
   "outputs": [],
   "source": [
    "df_poi_ser = df_final_res.apply(lambda x: parse_result_elements({'output':x['output'], \n",
    "                                                                 'searched_coordinates':x['searched_coordinates']}), axis=1)"
   ]
  },
  {
   "cell_type": "code",
   "execution_count": null,
   "metadata": {},
   "outputs": [],
   "source": [
    "df_poi = pd.DataFrame()\n",
    "for i in df_poi_ser:\n",
    "    df_poi = pd.concat([df_poi, i], ignore_index=True, sort=False)"
   ]
  },
  {
   "cell_type": "code",
   "execution_count": null,
   "metadata": {},
   "outputs": [],
   "source": [
    "len(df_poi)"
   ]
  },
  {
   "cell_type": "code",
   "execution_count": null,
   "metadata": {},
   "outputs": [],
   "source": [
    "df_poi.to_csv('df_poi_final.csv')\n",
    "df_poi.to_excel('df_poi_final.xlsx')"
   ]
  }
 ],
 "metadata": {
  "kernelspec": {
   "display_name": "Python 3",
   "language": "python",
   "name": "python3"
  },
  "language_info": {
   "codemirror_mode": {
    "name": "ipython",
    "version": 3
   },
   "file_extension": ".py",
   "mimetype": "text/x-python",
   "name": "python",
   "nbconvert_exporter": "python",
   "pygments_lexer": "ipython3",
   "version": "3.6.4"
  }
 },
 "nbformat": 4,
 "nbformat_minor": 2
}
